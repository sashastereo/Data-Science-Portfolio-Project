{
 "cells": [
  {
   "cell_type": "markdown",
   "metadata": {},
   "source": [
    "# Predict a car price in Ukraine 2020\n",
    "\n",
    "## Introduction\n",
    "\n",
    "This project analyses used cars data from Ukrainian automobile online portal \"auto.ria.com\".\n",
    "\n",
    "The goal of this project is to perform an exploratory data analysis of the given dataset and bild a model for a car's price prediction.\n",
    "\n",
    "## Data sources\n",
    "\n",
    "vehicle_price(2020).csv was downloaded from https://www.kaggle.com/dimakyn/vehicles-price-2020-ukraine\n",
    "\n",
    "Last updated 2020-01-08\n",
    "\n",
    "## Project Goals\n",
    "\n",
    "The used cars market is highly developed in Ukraine. According to Ukrainian Automobile Association, sales of used cars in Ukraine were five times higher then new cars sales in 2019 (https://bit.ly/35DicYM). \n",
    "It would be very useful for a Ukrainian car driver to have a model that can predict a fair price for bying or selling a used car.\n",
    "\n",
    "## Import Python Modules\n",
    "Here you can see Python modules that will be used in this project:"
   ]
  },
  {
   "cell_type": "code",
   "execution_count": 2,
   "metadata": {},
   "outputs": [],
   "source": [
    "## General libraries\n",
    "import numpy as np\n",
    "import pandas as pd\n",
    "\n",
    "from matplotlib import pyplot as plt\n",
    "import seaborn as sns\n",
    "\n",
    "plt.rcParams['figure.figsize'] = [25, 10]\n",
    "%matplotlib inline\n",
    "\n",
    "import warnings\n",
    "warnings.filterwarnings('ignore')\n",
    "\n",
    "import re\n",
    "from sklearn.preprocessing import scale"
   ]
  },
  {
   "cell_type": "markdown",
   "metadata": {},
   "source": [
    "## Loading the data\n",
    "Here I will load the initial datafile \"vehicle_price(2020).csv\" into the Pandas DataFrame in order to analyse it using Python modules. I print df.head(10) in order to see 10 first raws of data"
   ]
  },
  {
   "cell_type": "code",
   "execution_count": 3,
   "metadata": {},
   "outputs": [
    {
     "data": {
      "text/html": [
       "<div>\n",
       "<style scoped>\n",
       "    .dataframe tbody tr th:only-of-type {\n",
       "        vertical-align: middle;\n",
       "    }\n",
       "\n",
       "    .dataframe tbody tr th {\n",
       "        vertical-align: top;\n",
       "    }\n",
       "\n",
       "    .dataframe thead th {\n",
       "        text-align: right;\n",
       "    }\n",
       "</style>\n",
       "<table border=\"1\" class=\"dataframe\">\n",
       "  <thead>\n",
       "    <tr style=\"text-align: right;\">\n",
       "      <th></th>\n",
       "      <th>brand</th>\n",
       "      <th>model</th>\n",
       "      <th>year</th>\n",
       "      <th>body</th>\n",
       "      <th>price$</th>\n",
       "      <th>car_mileage</th>\n",
       "      <th>fuel</th>\n",
       "      <th>power</th>\n",
       "      <th>transmission</th>\n",
       "    </tr>\n",
       "  </thead>\n",
       "  <tbody>\n",
       "    <tr>\n",
       "      <th>0</th>\n",
       "      <td>ford</td>\n",
       "      <td>transit</td>\n",
       "      <td>2006</td>\n",
       "      <td>other</td>\n",
       "      <td>5 350</td>\n",
       "      <td>220</td>\n",
       "      <td>diesel</td>\n",
       "      <td>2.0</td>\n",
       "      <td>manual</td>\n",
       "    </tr>\n",
       "    <tr>\n",
       "      <th>1</th>\n",
       "      <td>renault</td>\n",
       "      <td>master</td>\n",
       "      <td>2017</td>\n",
       "      <td>other</td>\n",
       "      <td>17 000</td>\n",
       "      <td>211</td>\n",
       "      <td>diesel</td>\n",
       "      <td>2.3</td>\n",
       "      <td>manual</td>\n",
       "    </tr>\n",
       "    <tr>\n",
       "      <th>2</th>\n",
       "      <td>opel</td>\n",
       "      <td>vivaro</td>\n",
       "      <td>2015</td>\n",
       "      <td>other</td>\n",
       "      <td>15 200</td>\n",
       "      <td>157</td>\n",
       "      <td>diesel</td>\n",
       "      <td>1.6</td>\n",
       "      <td>manual</td>\n",
       "    </tr>\n",
       "    <tr>\n",
       "      <th>3</th>\n",
       "      <td>ford</td>\n",
       "      <td>transit</td>\n",
       "      <td>2000</td>\n",
       "      <td>other</td>\n",
       "      <td>4 999</td>\n",
       "      <td>300</td>\n",
       "      <td>diesel</td>\n",
       "      <td>2.4</td>\n",
       "      <td>manual</td>\n",
       "    </tr>\n",
       "    <tr>\n",
       "      <th>4</th>\n",
       "      <td>mercedes-benz</td>\n",
       "      <td>sprinter</td>\n",
       "      <td>2010</td>\n",
       "      <td>other</td>\n",
       "      <td>20 700</td>\n",
       "      <td>682</td>\n",
       "      <td>diesel</td>\n",
       "      <td>3.0</td>\n",
       "      <td>automatic</td>\n",
       "    </tr>\n",
       "    <tr>\n",
       "      <th>5</th>\n",
       "      <td>tesla</td>\n",
       "      <td>model</td>\n",
       "      <td>2017</td>\n",
       "      <td>other</td>\n",
       "      <td>68 888</td>\n",
       "      <td>39</td>\n",
       "      <td>NaN</td>\n",
       "      <td>NaN</td>\n",
       "      <td>other</td>\n",
       "    </tr>\n",
       "    <tr>\n",
       "      <th>6</th>\n",
       "      <td>volkswagen</td>\n",
       "      <td>t4</td>\n",
       "      <td>2002</td>\n",
       "      <td>other</td>\n",
       "      <td>12 900</td>\n",
       "      <td>270</td>\n",
       "      <td>diesel</td>\n",
       "      <td>2.5</td>\n",
       "      <td>manual</td>\n",
       "    </tr>\n",
       "    <tr>\n",
       "      <th>7</th>\n",
       "      <td>bmw</td>\n",
       "      <td>530</td>\n",
       "      <td>2000</td>\n",
       "      <td>other</td>\n",
       "      <td>6 999</td>\n",
       "      <td>331</td>\n",
       "      <td>diesel</td>\n",
       "      <td>3.0</td>\n",
       "      <td>automatic</td>\n",
       "    </tr>\n",
       "    <tr>\n",
       "      <th>8</th>\n",
       "      <td>volkswagen</td>\n",
       "      <td>caddy</td>\n",
       "      <td>2004</td>\n",
       "      <td>other</td>\n",
       "      <td>7 300</td>\n",
       "      <td>230</td>\n",
       "      <td>diesel</td>\n",
       "      <td>1.9</td>\n",
       "      <td>manual</td>\n",
       "    </tr>\n",
       "    <tr>\n",
       "      <th>9</th>\n",
       "      <td>opel</td>\n",
       "      <td>vivaro</td>\n",
       "      <td>2007</td>\n",
       "      <td>other</td>\n",
       "      <td>8 500</td>\n",
       "      <td>180</td>\n",
       "      <td>diesel</td>\n",
       "      <td>2.5</td>\n",
       "      <td>manual</td>\n",
       "    </tr>\n",
       "  </tbody>\n",
       "</table>\n",
       "</div>"
      ],
      "text/plain": [
       "           brand     model  year   body  price$  car_mileage    fuel  power  \\\n",
       "0           ford   transit  2006  other   5 350          220  diesel    2.0   \n",
       "1        renault    master  2017  other  17 000          211  diesel    2.3   \n",
       "2           opel    vivaro  2015  other  15 200          157  diesel    1.6   \n",
       "3           ford   transit  2000  other   4 999          300  diesel    2.4   \n",
       "4  mercedes-benz  sprinter  2010  other  20 700          682  diesel    3.0   \n",
       "5          tesla     model  2017  other  68 888           39     NaN    NaN   \n",
       "6     volkswagen        t4  2002  other  12 900          270  diesel    2.5   \n",
       "7            bmw       530  2000  other   6 999          331  diesel    3.0   \n",
       "8     volkswagen     caddy  2004  other   7 300          230  diesel    1.9   \n",
       "9           opel    vivaro  2007  other   8 500          180  diesel    2.5   \n",
       "\n",
       "  transmission  \n",
       "0       manual  \n",
       "1       manual  \n",
       "2       manual  \n",
       "3       manual  \n",
       "4    automatic  \n",
       "5        other  \n",
       "6       manual  \n",
       "7    automatic  \n",
       "8       manual  \n",
       "9       manual  "
      ]
     },
     "execution_count": 3,
     "metadata": {},
     "output_type": "execute_result"
    }
   ],
   "source": [
    "df = pd.read_csv('vehicle_price(2020).csv', encoding='utf-8')\n",
    "df.head(10)"
   ]
  },
  {
   "cell_type": "markdown",
   "metadata": {},
   "source": [
    "## Data characteristics\n",
    "This datafile has 22866 raws in 9 columns\n",
    "\n",
    "The columns have the following data:\n",
    "* **brand**: categorical variable of a car brand (ford, renault, opel)\n",
    "* **model**: categorical variable of a car model (transit, sprinter, caddy)\n",
    "* **year**: continuous variable of a manufacturing year (2006, 2010, 2017)\n",
    "* **body**: categorical variable of a car's body type (sedan', 'coupe', 'minivan')\n",
    "* **price$**: continuous variable of a car price in USD('5 350', '1 100', '2 200')\n",
    "* **car_mileage**: continuous variable of a car_mileage in km*1000 (220, 211, 39)\n",
    "* **fuel**: categorical variable of a fuel type ('diesel', 'petrol', 'gas')\n",
    "* **power**: continuous variable of engine's cylinders volume (2.0, 3.0, 3.5)\n",
    "* **transmission**: categorical variable of transmission typt ('manual', 'automatic', 'typtronik')\n",
    "\n",
    "We can see that some data is missing in columns 'fuel' (21140 Non-Null values instead of 22867), 'power', and 'transmission', but this is not critical since the amount of available data is enough for building a model for price prediction."
   ]
  },
  {
   "cell_type": "code",
   "execution_count": 4,
   "metadata": {},
   "outputs": [
    {
     "name": "stdout",
     "output_type": "stream",
     "text": [
      "<class 'pandas.core.frame.DataFrame'>\n",
      "RangeIndex: 22867 entries, 0 to 22866\n",
      "Data columns (total 9 columns):\n",
      " #   Column        Non-Null Count  Dtype  \n",
      "---  ------        --------------  -----  \n",
      " 0   brand         22867 non-null  object \n",
      " 1   model         22867 non-null  object \n",
      " 2   year          22867 non-null  int64  \n",
      " 3   body          22867 non-null  object \n",
      " 4   price$        22867 non-null  object \n",
      " 5   car_mileage   22867 non-null  int64  \n",
      " 6   fuel          21140 non-null  object \n",
      " 7   power         21464 non-null  float64\n",
      " 8   transmission  22593 non-null  object \n",
      "dtypes: float64(1), int64(2), object(6)\n",
      "memory usage: 1.6+ MB\n"
     ]
    }
   ],
   "source": [
    "df.info()"
   ]
  },
  {
   "cell_type": "markdown",
   "metadata": {},
   "source": [
    "## Data exploration\n",
    "First, let's find the amount of unique values in some of our columns. This is important to know for the future exploratory analysis and prediction midel design. \n",
    "\n",
    "\n",
    "We will do this using `df.'column_name'.nunique()` command. We will not explore prices and mileage columns since the amount of unique values will be very high."
   ]
  },
  {
   "cell_type": "code",
   "execution_count": 5,
   "metadata": {},
   "outputs": [
    {
     "data": {
      "text/plain": [
       "93"
      ]
     },
     "execution_count": 5,
     "metadata": {},
     "output_type": "execute_result"
    }
   ],
   "source": [
    "df.brand.nunique()"
   ]
  },
  {
   "cell_type": "code",
   "execution_count": 6,
   "metadata": {},
   "outputs": [
    {
     "data": {
      "text/plain": [
       "916"
      ]
     },
     "execution_count": 6,
     "metadata": {},
     "output_type": "execute_result"
    }
   ],
   "source": [
    "df.model.nunique()"
   ]
  },
  {
   "cell_type": "code",
   "execution_count": 7,
   "metadata": {},
   "outputs": [
    {
     "data": {
      "text/plain": [
       "59"
      ]
     },
     "execution_count": 7,
     "metadata": {},
     "output_type": "execute_result"
    }
   ],
   "source": [
    "df.year.nunique()"
   ]
  },
  {
   "cell_type": "code",
   "execution_count": 8,
   "metadata": {},
   "outputs": [
    {
     "data": {
      "text/plain": [
       "12"
      ]
     },
     "execution_count": 8,
     "metadata": {},
     "output_type": "execute_result"
    }
   ],
   "source": [
    "df.body.nunique()"
   ]
  },
  {
   "cell_type": "code",
   "execution_count": 9,
   "metadata": {},
   "outputs": [
    {
     "data": {
      "text/plain": [
       "3"
      ]
     },
     "execution_count": 9,
     "metadata": {},
     "output_type": "execute_result"
    }
   ],
   "source": [
    "df.fuel.nunique()"
   ]
  },
  {
   "cell_type": "code",
   "execution_count": 10,
   "metadata": {},
   "outputs": [
    {
     "data": {
      "text/plain": [
       "125"
      ]
     },
     "execution_count": 10,
     "metadata": {},
     "output_type": "execute_result"
    }
   ],
   "source": [
    "df.power.nunique()"
   ]
  },
  {
   "cell_type": "code",
   "execution_count": 11,
   "metadata": {},
   "outputs": [
    {
     "data": {
      "text/plain": [
       "5"
      ]
     },
     "execution_count": 11,
     "metadata": {},
     "output_type": "execute_result"
    }
   ],
   "source": [
    "df.transmission.nunique()"
   ]
  },
  {
   "cell_type": "markdown",
   "metadata": {},
   "source": [
    "## Data cleaning\n",
    "Before we can start working with data we have to clean it so we will have no problems with applying different algorithms.\n",
    "\n",
    "First, values in the price column are objects, but we will need an integer for better usability. Also, the column name is using a special character price$ which can cause troubles in future. So we need to rename the column name and change the values to integers.\n",
    "\n",
    "As the last step, we should remove missing data (nulls and NaN).\n",
    "\n",
    "P.S. During the data cleaning I found one string value **\"договірна\"** in the **\"price_usd\"** column, which means \"price by deal\". So I head to remove it too in order to process my algorithms."
   ]
  },
  {
   "cell_type": "code",
   "execution_count": 12,
   "metadata": {},
   "outputs": [
    {
     "name": "stdout",
     "output_type": "stream",
     "text": [
      "<class 'pandas.core.frame.DataFrame'>\n",
      "RangeIndex: 20909 entries, 0 to 20908\n",
      "Data columns (total 10 columns):\n",
      " #   Column        Non-Null Count  Dtype  \n",
      "---  ------        --------------  -----  \n",
      " 0   index         20909 non-null  int64  \n",
      " 1   brand         20909 non-null  object \n",
      " 2   model         20909 non-null  object \n",
      " 3   year          20909 non-null  int64  \n",
      " 4   body          20909 non-null  object \n",
      " 5   price_usd     20909 non-null  int32  \n",
      " 6   car_mileage   20909 non-null  int64  \n",
      " 7   fuel          20909 non-null  object \n",
      " 8   power         20909 non-null  float64\n",
      " 9   transmission  20909 non-null  object \n",
      "dtypes: float64(1), int32(1), int64(3), object(5)\n",
      "memory usage: 1.5+ MB\n",
      "None\n",
      "[   100    350    400 ... 474781 491139 665000]\n",
      "Empty DataFrame\n",
      "Columns: [index, brand, model, year, body, price_usd, car_mileage, fuel, power, transmission]\n",
      "Index: []\n"
     ]
    }
   ],
   "source": [
    "df.rename(columns={\"price$\": \"price_usd\"}, inplace=True)\n",
    "df['price_usd'] = df['price_usd'].str.replace(\" \",\"\")\n",
    "df = df[df.price_usd != 'договірна']\n",
    "df['price_usd'] = df['price_usd'].astype(int)\n",
    "\n",
    "columns = ['brand', 'model', 'year', 'body', 'price_usd', 'car_mileage', 'fuel',\n",
    "       'power', 'transmission']\n",
    "df = df[columns].dropna().reset_index()\n",
    "\n",
    "\n",
    "print(df.info())\n",
    "\n",
    "#Making sure I don't have zero values in my 'price_usd' column.\n",
    "price_list = df['price_usd'].unique()\n",
    "price_list.sort()\n",
    "print(price_list)\n",
    "print(df[df.price_usd == 0])\n",
    "\n"
   ]
  },
  {
   "cell_type": "markdown",
   "metadata": {},
   "source": [
    "**After all manipulations, we have 20909 rows of clean data, which is still good for futher analysis.**"
   ]
  },
  {
   "cell_type": "markdown",
   "metadata": {},
   "source": [
    "## Exploratory analysis\n",
    "Let's perform some simple visualization of our data.\n",
    "\n",
    "In the beginning, let's look at the prices distribution.\n",
    "\n",
    "The median price is 9 400 USD, but there are many outliers up to 100 000 USD and more."
   ]
  },
  {
   "cell_type": "code",
   "execution_count": 13,
   "metadata": {},
   "outputs": [
    {
     "name": "stdout",
     "output_type": "stream",
     "text": [
      "Mean: 14327.07480032522\n",
      "Median: 9400.0\n",
      "Mode: 0    6500\n",
      "dtype: int32\n",
      "Quartiles: [ 6250.  9400. 14900.]\n"
     ]
    },
    {
     "data": {
      "image/png": "[encoded data removed]",
      "text/plain": [
       "<Figure size 720x576 with 1 Axes>"
      ]
     },
     "metadata": {
      "needs_background": "light"
     },
     "output_type": "display_data"
    }
   ],
   "source": [
    "sns.set_context(\"notebook\", font_scale=1.5, rc={\"lines.linewidth\": 2.5})\n",
    "plt.figure(figsize=(10, 8))\n",
    "sns.violinplot(x=df[\"price_usd\"])\n",
    "#plt.ylim(0, None)\n",
    "plt.xlim(0, 100000)\n",
    "\n",
    "#Basic statistics\n",
    "print(f'Mean: {df.price_usd.mean()}')\n",
    "print(f'Median: {df.price_usd.median()}')\n",
    "print(f'Mode: {df.price_usd.mode()}')\n",
    "print(f'Quartiles: {np.quantile(df.price_usd, [0.25, 0.5, 0.75])}')\n",
    "\n"
   ]
  },
  {
   "cell_type": "markdown",
   "metadata": {},
   "source": [
    "**As you can see, there are many outliers in the dataset, so price for a used car can rise up to 600 000 USD! But we should consider the possibility, that the seller entered the price in UAH, which is Ukrainian national currency. 1 UAH = 0.036 USD**"
   ]
  },
  {
   "cell_type": "code",
   "execution_count": 14,
   "metadata": {},
   "outputs": [
    {
     "data": {
      "text/plain": [
       "(0.0, 5.0)"
      ]
     },
     "execution_count": 14,
     "metadata": {},
     "output_type": "execute_result"
    },
    {
     "data": {
      "text/plain": [
       "<Figure size 1440x576 with 0 Axes>"
      ]
     },
     "metadata": {},
     "output_type": "display_data"
    },
    {
     "data": {
      "image/png": "[encoded data removed]",
      "text/plain": [
       "<Figure size 360x360 with 1 Axes>"
      ]
     },
     "metadata": {
      "needs_background": "light"
     },
     "output_type": "display_data"
    }
   ],
   "source": [
    "plt.figure(figsize=(20, 8))\n",
    "sns.displot(data=df, x=\"price_usd\", bins=1000)\n",
    "plt.ylim(0, 5)\n"
   ]
  },
  {
   "cell_type": "markdown",
   "metadata": {},
   "source": [
    "## Most popular brand\n",
    "Let's find out which brand was the most popular one in 2020. Volkswagen holds the first place with a great margin from the closest neighbour. Renault and Mercedes-Benz are second and third, respectively."
   ]
  },
  {
   "cell_type": "code",
   "execution_count": 15,
   "metadata": {},
   "outputs": [
    {
     "data": {
      "text/plain": [
       "<AxesSubplot:xlabel='count', ylabel='brand'>"
      ]
     },
     "execution_count": 15,
     "metadata": {},
     "output_type": "execute_result"
    },
    {
     "data": {
      "image/png": "[encoded data removed]",
      "text/plain": [
       "<Figure size 1008x432 with 1 Axes>"
      ]
     },
     "metadata": {
      "needs_background": "light"
     },
     "output_type": "display_data"
    }
   ],
   "source": [
    "plt.figure(figsize=(14, 6))\n",
    "sns.countplot(y=\"brand\", data=df, order = df['brand'].value_counts().iloc[:10].index)\n",
    "#plt.ylim(10, 0)"
   ]
  },
  {
   "cell_type": "markdown",
   "metadata": {},
   "source": [
    "## Popular models\n",
    "Volkswagen Passat, Skoda Octavia and Volkswagen Golf are Top 3 models in Ukraine"
   ]
  },
  {
   "cell_type": "code",
   "execution_count": 16,
   "metadata": {},
   "outputs": [
    {
     "data": {
      "text/plain": [
       "<AxesSubplot:xlabel='count', ylabel='model'>"
      ]
     },
     "execution_count": 16,
     "metadata": {},
     "output_type": "execute_result"
    },
    {
     "data": {
      "image/png": "[encoded data removed]",
      "text/plain": [
       "<Figure size 1008x432 with 1 Axes>"
      ]
     },
     "metadata": {
      "needs_background": "light"
     },
     "output_type": "display_data"
    }
   ],
   "source": [
    "plt.figure(figsize=(14, 6))\n",
    "sns.countplot(y=\"model\", data=df, order = df['model'].value_counts().iloc[:10].index)\n"
   ]
  },
  {
   "cell_type": "markdown",
   "metadata": {},
   "source": [
    "## How old are most popular cars?\n",
    "Customers usually tried to sell 7-12 years old cars"
   ]
  },
  {
   "cell_type": "code",
   "execution_count": 17,
   "metadata": {},
   "outputs": [
    {
     "data": {
      "text/plain": [
       "<AxesSubplot:xlabel='count', ylabel='year'>"
      ]
     },
     "execution_count": 17,
     "metadata": {},
     "output_type": "execute_result"
    },
    {
     "data": {
      "image/png": "[encoded data removed]",
      "text/plain": [
       "<Figure size 864x432 with 1 Axes>"
      ]
     },
     "metadata": {
      "needs_background": "light"
     },
     "output_type": "display_data"
    }
   ],
   "source": [
    "plt.figure(figsize=(12, 6))\n",
    "sns.countplot(y=\"year\", data=df, order = df['year'].value_counts().iloc[:10].index)\n"
   ]
  },
  {
   "cell_type": "markdown",
   "metadata": {},
   "source": [
    "## Most popular body type\n",
    "Ukrainian car owners usually sell sedans, crossovers and station wagons"
   ]
  },
  {
   "cell_type": "code",
   "execution_count": 18,
   "metadata": {},
   "outputs": [
    {
     "data": {
      "text/plain": [
       "<AxesSubplot:xlabel='count', ylabel='body'>"
      ]
     },
     "execution_count": 18,
     "metadata": {},
     "output_type": "execute_result"
    },
    {
     "data": {
      "image/png": "[encoded data removed]",
      "text/plain": [
       "<Figure size 864x432 with 1 Axes>"
      ]
     },
     "metadata": {
      "needs_background": "light"
     },
     "output_type": "display_data"
    }
   ],
   "source": [
    "plt.figure(figsize=(12, 6))\n",
    "sns.countplot(y=\"body\", data=df, order = df['body'].value_counts().index)\n"
   ]
  },
  {
   "cell_type": "markdown",
   "metadata": {},
   "source": [
    "## Fuel type\n",
    "Ukrainian drivers use diesel and petrol in equal proportions, and gas is rising as a cheaper alternative in recent years."
   ]
  },
  {
   "cell_type": "code",
   "execution_count": 19,
   "metadata": {},
   "outputs": [
    {
     "data": {
      "text/plain": [
       "<AxesSubplot:xlabel='count', ylabel='fuel'>"
      ]
     },
     "execution_count": 19,
     "metadata": {},
     "output_type": "execute_result"
    },
    {
     "data": {
      "image/png": "[encoded data removed]",
      "text/plain": [
       "<Figure size 864x432 with 1 Axes>"
      ]
     },
     "metadata": {
      "needs_background": "light"
     },
     "output_type": "display_data"
    }
   ],
   "source": [
    "plt.figure(figsize=(12, 6))\n",
    "sns.countplot(y=\"fuel\", data=df, order = df['fuel'].value_counts().index)"
   ]
  },
  {
   "cell_type": "markdown",
   "metadata": {},
   "source": [
    "## Transmission\n",
    "Manual transmission is still the most popular one, but automatic is almost equal to it"
   ]
  },
  {
   "cell_type": "code",
   "execution_count": 20,
   "metadata": {},
   "outputs": [
    {
     "data": {
      "text/plain": [
       "<AxesSubplot:xlabel='count', ylabel='transmission'>"
      ]
     },
     "execution_count": 20,
     "metadata": {},
     "output_type": "execute_result"
    },
    {
     "data": {
      "image/png": "[encoded data removed]",
      "text/plain": [
       "<Figure size 864x432 with 1 Axes>"
      ]
     },
     "metadata": {
      "needs_background": "light"
     },
     "output_type": "display_data"
    }
   ],
   "source": [
    "plt.figure(figsize=(12, 6))\n",
    "sns.countplot(y=\"transmission\", data=df, order = df['transmission'].value_counts().index)"
   ]
  },
  {
   "cell_type": "markdown",
   "metadata": {},
   "source": [
    "## Car mileage\n",
    "Ukrainian drivers usually sell cars with 150-250 thousands km mileage"
   ]
  },
  {
   "cell_type": "code",
   "execution_count": 21,
   "metadata": {},
   "outputs": [
    {
     "data": {
      "text/plain": [
       "<AxesSubplot:xlabel='count', ylabel='car_mileage'>"
      ]
     },
     "execution_count": 21,
     "metadata": {},
     "output_type": "execute_result"
    },
    {
     "data": {
      "image/png": "[encoded data removed]",
      "text/plain": [
       "<Figure size 864x432 with 1 Axes>"
      ]
     },
     "metadata": {
      "needs_background": "light"
     },
     "output_type": "display_data"
    }
   ],
   "source": [
    "plt.figure(figsize=(12, 6))\n",
    "sns.countplot(y=\"car_mileage\", data=df, order = df['car_mileage'].value_counts().iloc[:10].index)\n",
    "   "
   ]
  },
  {
   "cell_type": "markdown",
   "metadata": {},
   "source": [
    "## Power\n",
    "On this graph you can see a variety of engines on the Ukrainian cars market"
   ]
  },
  {
   "cell_type": "code",
   "execution_count": 22,
   "metadata": {},
   "outputs": [
    {
     "data": {
      "text/plain": [
       "<AxesSubplot:xlabel='count', ylabel='power'>"
      ]
     },
     "execution_count": 22,
     "metadata": {},
     "output_type": "execute_result"
    },
    {
     "data": {
      "image/png": "[encoded data removed]",
      "text/plain": [
       "<Figure size 864x432 with 1 Axes>"
      ]
     },
     "metadata": {
      "needs_background": "light"
     },
     "output_type": "display_data"
    }
   ],
   "source": [
    "plt.figure(figsize=(12, 6))\n",
    "sns.countplot(y=\"power\", data=df, order = df['power'].value_counts().iloc[:10].index)"
   ]
  },
  {
   "cell_type": "markdown",
   "metadata": {},
   "source": [
    "# Biulding a prediction model"
   ]
  },
  {
   "cell_type": "markdown",
   "metadata": {},
   "source": [
    "### Preliminary testing\n",
    "In order to have some idea about parameters that are most important for prediction, we can plot our numeric variables on a heatplot in order to observe correlations. As you can see below, price has a pretty significant positive correlation with year of production and engine power."
   ]
  },
  {
   "cell_type": "code",
   "execution_count": 23,
   "metadata": {
    "scrolled": true
   },
   "outputs": [
    {
     "data": {
      "text/plain": [
       "<AxesSubplot:>"
      ]
     },
     "execution_count": 23,
     "metadata": {},
     "output_type": "execute_result"
    },
    {
     "data": {
      "image/png": "[encoded data removed]",
      "text/plain": [
       "<Figure size 432x288 with 2 Axes>"
      ]
     },
     "metadata": {
      "needs_background": "light"
     },
     "output_type": "display_data"
    }
   ],
   "source": [
    "columns_heatmap = ['price_usd', 'year', 'car_mileage', 'power']\n",
    "df_heatmap = df[columns_heatmap]\n",
    "sns.set_context('paper')\n",
    "sns.heatmap(df_heatmap.corr(),  annot=True)"
   ]
  },
  {
   "cell_type": "markdown",
   "metadata": {},
   "source": [
    "### Data selection\n",
    "For the prediction of car's price we will use next columns:'brand', 'model', 'year', 'body', 'car_mileage', 'fuel', 'power', 'transmission'. We will use 'price_usd' column as a label. Now we need to transform non-numerical values into 'dummy variables' in order to use them in our prediction models. Also, we will convert categorical variables into dummy-variables in order to use them in prediction models."
   ]
  },
  {
   "cell_type": "code",
   "execution_count": 24,
   "metadata": {},
   "outputs": [
    {
     "data": {
      "text/plain": [
       "(20909, 8)"
      ]
     },
     "execution_count": 24,
     "metadata": {},
     "output_type": "execute_result"
    }
   ],
   "source": [
    "cols = ['brand', 'model', 'year', 'body', 'car_mileage', 'fuel', 'power', 'transmission']       \n",
    "df_p = df[cols]\n",
    "df_p.shape\n",
    "# "
   ]
  },
  {
   "cell_type": "code",
   "execution_count": 25,
   "metadata": {},
   "outputs": [
    {
     "name": "stdout",
     "output_type": "stream",
     "text": [
      "       year  car_mileage     power  brand_alfa  brand_audi  brand_bentley  \\\n",
      "0 -0.538205     0.000245 -0.132463           0           0              0   \n",
      "1  1.265240    -0.002401  0.181714           0           0              0   \n",
      "2  0.937341    -0.018275 -0.551366           0           0              0   \n",
      "3 -1.521903     0.023763  0.286440           0           0              0   \n",
      "4  0.117593     0.136059  0.914794           0           0              0   \n",
      "\n",
      "   brand_bmw  brand_brilliance  brand_buick  brand_byd  ...  \\\n",
      "0          0                 0            0          0  ...   \n",
      "1          0                 0            0          0  ...   \n",
      "2          0                 0            0          0  ...   \n",
      "3          0                 0            0          0  ...   \n",
      "4          0                 0            0          0  ...   \n",
      "\n",
      "   body_passenger van  body_pickup  body_sedan  body_station wagon  fuel_gas  \\\n",
      "0                   0            0           0                   0         0   \n",
      "1                   0            0           0                   0         0   \n",
      "2                   0            0           0                   0         0   \n",
      "3                   0            0           0                   0         0   \n",
      "4                   0            0           0                   0         0   \n",
      "\n",
      "   fuel_petrol  transmission_automatic  transmission_manual  \\\n",
      "0            0                       0                    1   \n",
      "1            0                       0                    1   \n",
      "2            0                       0                    1   \n",
      "3            0                       0                    1   \n",
      "4            0                       1                    0   \n",
      "\n",
      "   transmission_other  transmission_typtronik  \n",
      "0                   0                       0  \n",
      "1                   0                       0  \n",
      "2                   0                       0  \n",
      "3                   0                       0  \n",
      "4                   0                       0  \n",
      "\n",
      "[5 rows x 975 columns]\n",
      "(20909, 975)\n"
     ]
    }
   ],
   "source": [
    "# select all categorical variables\n",
    "cars_categorical = df_p.select_dtypes(include=['object'])\n",
    "# convert into dummies\n",
    "cars_dummies = pd.get_dummies(cars_categorical, drop_first=True)\n",
    "# drop categorical variables \n",
    "df_p = df_p.drop(list(cars_categorical.columns), axis=1)\n",
    "# scale numerical variables\n",
    "cols_ = df_p.columns\n",
    "df_p = pd.DataFrame(scale(df_p))\n",
    "df_p.columns = cols_\n",
    "# concat dummy variables with numerical\n",
    "df_p = pd.concat([df_p, cars_dummies], axis=1)\n",
    "print(df_p.head())\n",
    "print(df_p.shape)"
   ]
  },
  {
   "cell_type": "markdown",
   "metadata": {},
   "source": [
    "**Here we will split our data into train and test sets. For a better calculation speed we will first use 10% of data for training and 1% of data for testing**"
   ]
  },
  {
   "cell_type": "code",
   "execution_count": 26,
   "metadata": {},
   "outputs": [],
   "source": [
    "data = df_p\n",
    "values = df.price_usd\n",
    "from sklearn.model_selection import train_test_split\n",
    "X_train, X_val, Y_train, Y_val = train_test_split(data, values, test_size=0.01, train_size=0.1, random_state = 1)"
   ]
  },
  {
   "cell_type": "markdown",
   "metadata": {},
   "source": [
    "**On the next cell we will import our prediction modules**"
   ]
  },
  {
   "cell_type": "code",
   "execution_count": 27,
   "metadata": {},
   "outputs": [],
   "source": [
    "from sklearn.linear_model import LogisticRegression\n",
    "from sklearn.tree import DecisionTreeClassifier\n",
    "from sklearn.neighbors import KNeighborsClassifier\n",
    "from sklearn.linear_model import LinearRegression\n",
    "from sklearn.ensemble import RandomForestClassifier\n",
    "from sklearn.svm import SVC\n",
    "from sklearn.metrics import r2_score"
   ]
  },
  {
   "cell_type": "markdown",
   "metadata": {},
   "source": [
    "### Models testing\n",
    "Now we will test our prediction models on our data and will choose the best one. We will use r2_score for the initial assesement."
   ]
  },
  {
   "cell_type": "markdown",
   "metadata": {},
   "source": [
    "### Logistic regression"
   ]
  },
  {
   "cell_type": "code",
   "execution_count": 28,
   "metadata": {
    "scrolled": false
   },
   "outputs": [
    {
     "name": "stdout",
     "output_type": "stream",
     "text": [
      "0.8140951599174854\n"
     ]
    }
   ],
   "source": [
    "log_model = LogisticRegression(multi_class=\"multinomial\").fit(X_train, Y_train)\n",
    "log_predictions = log_model.predict(X_val)\n",
    "print(r2_score(y_true=Y_val, y_pred=log_predictions))"
   ]
  },
  {
   "cell_type": "markdown",
   "metadata": {},
   "source": [
    "### Linear regression"
   ]
  },
  {
   "cell_type": "code",
   "execution_count": 29,
   "metadata": {},
   "outputs": [
    {
     "name": "stdout",
     "output_type": "stream",
     "text": [
      "-4.009843470870629e+23\n"
     ]
    }
   ],
   "source": [
    "linr_model = LinearRegression()\n",
    "linr_model.fit(X_train, Y_train)\n",
    "linr_predictions = linr_model.predict(X_val)\n",
    "print(r2_score(y_true=Y_val, y_pred=linr_predictions))"
   ]
  },
  {
   "cell_type": "markdown",
   "metadata": {},
   "source": [
    "## K-Nearest Neighbors"
   ]
  },
  {
   "cell_type": "code",
   "execution_count": 30,
   "metadata": {},
   "outputs": [
    {
     "name": "stdout",
     "output_type": "stream",
     "text": [
      "0.9130797897179056\n"
     ]
    }
   ],
   "source": [
    "knn_model = KNeighborsClassifier(n_neighbors = 75).fit(X_train, Y_train)\n",
    "knn_predictions = knn_model.predict(X_val)\n",
    "print(r2_score(y_true=Y_val, y_pred=knn_predictions))\n"
   ]
  },
  {
   "cell_type": "markdown",
   "metadata": {},
   "source": [
    "**Here we check for the best k-value**"
   ]
  },
  {
   "cell_type": "code",
   "execution_count": 31,
   "metadata": {
    "scrolled": true
   },
   "outputs": [
    {
     "data": {
      "text/plain": [
       "[<matplotlib.lines.Line2D at 0x22b2deec670>]"
      ]
     },
     "execution_count": 31,
     "metadata": {},
     "output_type": "execute_result"
    },
    {
     "data": {
      "image/png": "[encoded data removed]",
      "text/plain": [
       "<Figure size 432x288 with 1 Axes>"
      ]
     },
     "metadata": {
      "needs_background": "light"
     },
     "output_type": "display_data"
    }
   ],
   "source": [
    "scores = []\n",
    "for k in range(1, 101):\n",
    "    knn_model = KNeighborsClassifier(n_neighbors = k, weights='uniform').fit(X_train, Y_train)\n",
    "    scores.append(knn_model.score(X_val, Y_val))\n",
    "\n",
    "plt.plot(range(1, 101), scores)"
   ]
  },
  {
   "cell_type": "markdown",
   "metadata": {},
   "source": [
    "## Decision Tree"
   ]
  },
  {
   "cell_type": "code",
   "execution_count": 32,
   "metadata": {},
   "outputs": [
    {
     "name": "stdout",
     "output_type": "stream",
     "text": [
      "0.8830024311335948\n"
     ]
    }
   ],
   "source": [
    "tree_model = DecisionTreeClassifier().fit(X_train, Y_train) \n",
    "tree_predictions = tree_model.predict(X_val) \n",
    "print(r2_score(y_true=Y_val, y_pred=tree_predictions))"
   ]
  },
  {
   "cell_type": "markdown",
   "metadata": {},
   "source": [
    "Since decision trees tend to overfit, we check for a maximum depth. As you can see, the value of 35 points on overfitting."
   ]
  },
  {
   "cell_type": "code",
   "execution_count": 33,
   "metadata": {},
   "outputs": [
    {
     "data": {
      "text/plain": [
       "33"
      ]
     },
     "execution_count": 33,
     "metadata": {},
     "output_type": "execute_result"
    }
   ],
   "source": [
    "tree_model.get_depth()"
   ]
  },
  {
   "cell_type": "markdown",
   "metadata": {},
   "source": [
    "### Decision tree with maximum depth of 20"
   ]
  },
  {
   "cell_type": "code",
   "execution_count": 34,
   "metadata": {},
   "outputs": [
    {
     "name": "stdout",
     "output_type": "stream",
     "text": [
      "0.7678816855567888\n"
     ]
    }
   ],
   "source": [
    "tree_model20 = DecisionTreeClassifier(max_depth = 20).fit(X_train, Y_train) \n",
    "tree_predictions20 = tree_model20.predict(X_val)\n",
    "print(r2_score(y_true=Y_val, y_pred=tree_predictions20))\n"
   ]
  },
  {
   "cell_type": "markdown",
   "metadata": {},
   "source": [
    "## Random Forest Classifier"
   ]
  },
  {
   "cell_type": "code",
   "execution_count": 35,
   "metadata": {},
   "outputs": [
    {
     "name": "stdout",
     "output_type": "stream",
     "text": [
      "0.7464564186714914\n"
     ]
    }
   ],
   "source": [
    "rf_classifier = RandomForestClassifier(n_estimators = 500, random_state = 0)\n",
    "rf_classifier.fit(X_train, Y_train)\n",
    "rf_predictions = rf_classifier.predict(X_val)\n",
    "print(r2_score(y_true=Y_val, y_pred=rf_predictions))"
   ]
  },
  {
   "cell_type": "markdown",
   "metadata": {},
   "source": [
    "## Support Vector Machine"
   ]
  },
  {
   "cell_type": "code",
   "execution_count": 36,
   "metadata": {},
   "outputs": [
    {
     "name": "stdout",
     "output_type": "stream",
     "text": [
      "0.9558710224460831\n"
     ]
    }
   ],
   "source": [
    "svc_classifier = SVC(C=0.7, kernel = 'poly', degree=1)\n",
    "\n",
    "svc_classifier.fit(X_train, Y_train) \n",
    "svc_predictions = svc_classifier.predict(X_val)\n",
    "\n",
    "print(r2_score(y_true=Y_val, y_pred=svc_predictions))"
   ]
  },
  {
   "cell_type": "markdown",
   "metadata": {},
   "source": [
    "## Best results\n",
    "The best results that we achieved were from K-Nearest Neighbour (r2=0.913) and Support Vector Machine (r2=0.956) models. Let's try to improve these models and check if they are still good with a big dataset."
   ]
  },
  {
   "cell_type": "markdown",
   "metadata": {},
   "source": [
    "## Weights\n",
    "Let's check parameter 'weights' of KNN model. We will test two options 'uniform' and 'distance'"
   ]
  },
  {
   "cell_type": "code",
   "execution_count": 37,
   "metadata": {
    "scrolled": true
   },
   "outputs": [
    {
     "name": "stdout",
     "output_type": "stream",
     "text": [
      "0.9130797897179056\n"
     ]
    }
   ],
   "source": [
    "knn_model = KNeighborsClassifier(n_neighbors = 75, weights='uniform').fit(X_train, Y_train)\n",
    "knn_predictions = knn_model.predict(X_val)\n",
    "print(r2_score(y_true=Y_val, y_pred=knn_predictions))"
   ]
  },
  {
   "cell_type": "code",
   "execution_count": 38,
   "metadata": {
    "scrolled": true
   },
   "outputs": [
    {
     "name": "stdout",
     "output_type": "stream",
     "text": [
      "0.8401922774780183\n"
     ]
    }
   ],
   "source": [
    "knn_model = KNeighborsClassifier(n_neighbors = 75, weights='distance').fit(X_train, Y_train)\n",
    "knn_predictions = knn_model.predict(X_val)\n",
    "print(r2_score(y_true=Y_val, y_pred=knn_predictions))"
   ]
  },
  {
   "cell_type": "markdown",
   "metadata": {},
   "source": [
    "## Split data again\n",
    "Now we will test the whole dataset (around 20 000 rows) in order to see how our models perform. We will change train size to 80% and test size to 20%."
   ]
  },
  {
   "cell_type": "code",
   "execution_count": 39,
   "metadata": {},
   "outputs": [],
   "source": [
    "\n",
    "X_train, X_val, Y_train, Y_val = train_test_split(data, values, test_size=0.2, train_size=0.8, random_state = 1)"
   ]
  },
  {
   "cell_type": "markdown",
   "metadata": {},
   "source": [
    "## K-Nearest Neighbors on a full dataset, weights='uniform'\n",
    "Here you can see selection of the best k-value, r2_score and a list of real - predicted values"
   ]
  },
  {
   "cell_type": "code",
   "execution_count": 40,
   "metadata": {
    "scrolled": true
   },
   "outputs": [
    {
     "data": {
      "text/plain": [
       "[<matplotlib.lines.Line2D at 0x22b2e1e12e0>]"
      ]
     },
     "execution_count": 40,
     "metadata": {},
     "output_type": "execute_result"
    },
    {
     "data": {
      "image/png": "[encoded data removed]",
      "text/plain": [
       "<Figure size 432x288 with 1 Axes>"
      ]
     },
     "metadata": {
      "needs_background": "light"
     },
     "output_type": "display_data"
    }
   ],
   "source": [
    "scores = []\n",
    "for k in range(1, 101):\n",
    "    knn_model = KNeighborsClassifier(n_neighbors = k, weights='uniform').fit(X_train, Y_train)\n",
    "    scores.append(knn_model.score(X_val, Y_val))\n",
    "\n",
    "plt.plot(range(1, 101), scores)"
   ]
  },
  {
   "cell_type": "code",
   "execution_count": 41,
   "metadata": {
    "scrolled": true
   },
   "outputs": [
    {
     "name": "stdout",
     "output_type": "stream",
     "text": [
      "0.9580843366805816\n",
      "[(4700, 5400), (7500, 7500), (4400, 4499), (3000, 3000), (8300, 5200), (8250, 7950), (4500, 3800), (13750, 15200), (9100, 9500)]\n"
     ]
    }
   ],
   "source": [
    "knn_model = KNeighborsClassifier(n_neighbors = 3, weights='uniform').fit(X_train, Y_train)\n",
    "knn_predictions = knn_model.predict(X_val)\n",
    "print(r2_score(y_true=Y_val, y_pred=knn_predictions))\n",
    "print(list(zip(Y_val, knn_predictions))[1:10])"
   ]
  },
  {
   "cell_type": "markdown",
   "metadata": {},
   "source": [
    "## K-Nearest Neighbors on a full dataset, weights='distance'\n",
    "Here you can see selection of the best k-value, r2_score and a list of real - predicted values"
   ]
  },
  {
   "cell_type": "code",
   "execution_count": null,
   "metadata": {
    "scrolled": true
   },
   "outputs": [],
   "source": [
    "scores = []\n",
    "for k in range(1, 101):\n",
    "    knn_model = KNeighborsClassifier(n_neighbors = k, weights='distance').fit(X_train, Y_train)\n",
    "    scores.append(knn_model.score(X_val, Y_val))\n",
    "\n",
    "plt.plot(range(1, 101), scores)"
   ]
  },
  {
   "cell_type": "code",
   "execution_count": 43,
   "metadata": {},
   "outputs": [
    {
     "name": "stdout",
     "output_type": "stream",
     "text": [
      "0.9604586412823694\n",
      "[(4700, 5600), (7500, 7500), (4400, 5200), (3000, 3500), (8300, 5200), (8250, 8300), (4500, 5100), (13750, 15200), (9100, 9800)]\n"
     ]
    }
   ],
   "source": [
    "knn_model = KNeighborsClassifier(n_neighbors = 90, weights='distance').fit(X_train, Y_train)\n",
    "knn_predictions = knn_model.predict(X_val)\n",
    "print(r2_score(y_true=Y_val, y_pred=knn_predictions))\n",
    "print(list(zip(Y_val, knn_predictions))[1:10])"
   ]
  },
  {
   "cell_type": "markdown",
   "metadata": {},
   "source": [
    "## Support Vector Machine on a full dataset, C=0.7\n",
    "Here you can see r2_score and a list of real - predicted values"
   ]
  },
  {
   "cell_type": "code",
   "execution_count": 44,
   "metadata": {},
   "outputs": [
    {
     "name": "stdout",
     "output_type": "stream",
     "text": [
      "0.9080820573319963\n",
      "[(4700, 5500), (7500, 7500), (4400, 6500), (3000, 4500), (8300, 7500), (8250, 7500), (4500, 7500), (13750, 13500), (9100, 9500)]\n"
     ]
    }
   ],
   "source": [
    "svc_classifier = SVC(C=0.7, kernel = 'poly', degree=1)\n",
    "\n",
    "svc_classifier.fit(X_train, Y_train) \n",
    "svc_predictions = svc_classifier.predict(X_val)\n",
    "\n",
    "print(r2_score(y_true=Y_val, y_pred=svc_predictions))\n",
    "print(list(zip(Y_val, svc_predictions))[1:10])"
   ]
  },
  {
   "cell_type": "markdown",
   "metadata": {},
   "source": [
    "## Testing on a real data\n",
    "Here we woll test our prediction models on a small dataset from 2021 scraped from the same website \"auto.ria.com\""
   ]
  },
  {
   "cell_type": "code",
   "execution_count": 152,
   "metadata": {
    "scrolled": true
   },
   "outputs": [
    {
     "data": {
      "text/html": [
       "<div>\n",
       "<style scoped>\n",
       "    .dataframe tbody tr th:only-of-type {\n",
       "        vertical-align: middle;\n",
       "    }\n",
       "\n",
       "    .dataframe tbody tr th {\n",
       "        vertical-align: top;\n",
       "    }\n",
       "\n",
       "    .dataframe thead th {\n",
       "        text-align: right;\n",
       "    }\n",
       "</style>\n",
       "<table border=\"1\" class=\"dataframe\">\n",
       "  <thead>\n",
       "    <tr style=\"text-align: right;\">\n",
       "      <th></th>\n",
       "      <th>brand</th>\n",
       "      <th>model</th>\n",
       "      <th>year</th>\n",
       "      <th>body</th>\n",
       "      <th>price_usd</th>\n",
       "      <th>car_mileage</th>\n",
       "      <th>fuel</th>\n",
       "      <th>power</th>\n",
       "      <th>transmission</th>\n",
       "    </tr>\n",
       "  </thead>\n",
       "  <tbody>\n",
       "    <tr>\n",
       "      <th>0</th>\n",
       "      <td>volkswagen</td>\n",
       "      <td>caddy</td>\n",
       "      <td>2017</td>\n",
       "      <td>minivan</td>\n",
       "      <td>11900</td>\n",
       "      <td>225</td>\n",
       "      <td>diesel</td>\n",
       "      <td>2.0</td>\n",
       "      <td>manual</td>\n",
       "    </tr>\n",
       "    <tr>\n",
       "      <th>1</th>\n",
       "      <td>volkswagen</td>\n",
       "      <td>golf</td>\n",
       "      <td>2004</td>\n",
       "      <td>hatchback</td>\n",
       "      <td>5950</td>\n",
       "      <td>165</td>\n",
       "      <td>petrol</td>\n",
       "      <td>1.6</td>\n",
       "      <td>manual</td>\n",
       "    </tr>\n",
       "    <tr>\n",
       "      <th>2</th>\n",
       "      <td>volkswagen</td>\n",
       "      <td>golf</td>\n",
       "      <td>2008</td>\n",
       "      <td>hatchback</td>\n",
       "      <td>7490</td>\n",
       "      <td>167</td>\n",
       "      <td>petrol</td>\n",
       "      <td>1.4</td>\n",
       "      <td>manual</td>\n",
       "    </tr>\n",
       "    <tr>\n",
       "      <th>3</th>\n",
       "      <td>bmw</td>\n",
       "      <td>320</td>\n",
       "      <td>2008</td>\n",
       "      <td>sedan</td>\n",
       "      <td>8350</td>\n",
       "      <td>213</td>\n",
       "      <td>petrol</td>\n",
       "      <td>2.0</td>\n",
       "      <td>manual</td>\n",
       "    </tr>\n",
       "    <tr>\n",
       "      <th>4</th>\n",
       "      <td>ford</td>\n",
       "      <td>focus</td>\n",
       "      <td>2010</td>\n",
       "      <td>hatchback</td>\n",
       "      <td>6750</td>\n",
       "      <td>173</td>\n",
       "      <td>diesel</td>\n",
       "      <td>1.6</td>\n",
       "      <td>manual</td>\n",
       "    </tr>\n",
       "    <tr>\n",
       "      <th>5</th>\n",
       "      <td>volkswagen</td>\n",
       "      <td>passat</td>\n",
       "      <td>2011</td>\n",
       "      <td>station wagon</td>\n",
       "      <td>11400</td>\n",
       "      <td>242</td>\n",
       "      <td>diesel</td>\n",
       "      <td>2.0</td>\n",
       "      <td>automatic</td>\n",
       "    </tr>\n",
       "    <tr>\n",
       "      <th>6</th>\n",
       "      <td>volkswagen</td>\n",
       "      <td>passat</td>\n",
       "      <td>2014</td>\n",
       "      <td>sedan</td>\n",
       "      <td>11900</td>\n",
       "      <td>121</td>\n",
       "      <td>gas</td>\n",
       "      <td>1.8</td>\n",
       "      <td>automatic</td>\n",
       "    </tr>\n",
       "    <tr>\n",
       "      <th>7</th>\n",
       "      <td>renault</td>\n",
       "      <td>megane</td>\n",
       "      <td>2011</td>\n",
       "      <td>hatchback</td>\n",
       "      <td>8599</td>\n",
       "      <td>147</td>\n",
       "      <td>diesel</td>\n",
       "      <td>1.5</td>\n",
       "      <td>automatic</td>\n",
       "    </tr>\n",
       "    <tr>\n",
       "      <th>8</th>\n",
       "      <td>nissan</td>\n",
       "      <td>qashqai</td>\n",
       "      <td>2008</td>\n",
       "      <td>SUV/crossover</td>\n",
       "      <td>9000</td>\n",
       "      <td>248</td>\n",
       "      <td>diesel</td>\n",
       "      <td>1.5</td>\n",
       "      <td>manual</td>\n",
       "    </tr>\n",
       "    <tr>\n",
       "      <th>9</th>\n",
       "      <td>audi</td>\n",
       "      <td>a6</td>\n",
       "      <td>2008</td>\n",
       "      <td>sedan</td>\n",
       "      <td>11599</td>\n",
       "      <td>194</td>\n",
       "      <td>diesel</td>\n",
       "      <td>2.7</td>\n",
       "      <td>automatic</td>\n",
       "    </tr>\n",
       "  </tbody>\n",
       "</table>\n",
       "</div>"
      ],
      "text/plain": [
       "        brand    model  year           body  price_usd  car_mileage    fuel  \\\n",
       "0  volkswagen    caddy  2017        minivan      11900          225  diesel   \n",
       "1  volkswagen     golf  2004      hatchback       5950          165  petrol   \n",
       "2  volkswagen     golf  2008      hatchback       7490          167  petrol   \n",
       "3         bmw      320  2008          sedan       8350          213  petrol   \n",
       "4        ford    focus  2010      hatchback       6750          173  diesel   \n",
       "5  volkswagen   passat  2011  station wagon      11400          242  diesel   \n",
       "6  volkswagen   passat  2014          sedan      11900          121     gas   \n",
       "7     renault   megane  2011      hatchback       8599          147  diesel   \n",
       "8      nissan  qashqai  2008  SUV/crossover       9000          248  diesel   \n",
       "9        audi       a6  2008          sedan      11599          194  diesel   \n",
       "\n",
       "   power transmission  \n",
       "0    2.0       manual  \n",
       "1    1.6       manual  \n",
       "2    1.4       manual  \n",
       "3    2.0       manual  \n",
       "4    1.6       manual  \n",
       "5    2.0    automatic  \n",
       "6    1.8    automatic  \n",
       "7    1.5    automatic  \n",
       "8    1.5       manual  \n",
       "9    2.7    automatic  "
      ]
     },
     "execution_count": 152,
     "metadata": {},
     "output_type": "execute_result"
    }
   ],
   "source": [
    "df_2021 = pd.read_csv('vehicle_price_2021.csv', encoding='utf-8')\n",
    "df_2021\n"
   ]
  },
  {
   "cell_type": "markdown",
   "metadata": {},
   "source": [
    "## Data processing\n",
    "Here we will process data in the same way as we did for the training set"
   ]
  },
  {
   "cell_type": "code",
   "execution_count": 153,
   "metadata": {},
   "outputs": [
    {
     "name": "stdout",
     "output_type": "stream",
     "text": [
      "(20919, 10)\n"
     ]
    }
   ],
   "source": [
    "df_comb = pd.concat([df, df_2021], axis=0, ignore_index=True)\n",
    "print(df_comb.shape)"
   ]
  },
  {
   "cell_type": "code",
   "execution_count": 154,
   "metadata": {},
   "outputs": [],
   "source": [
    "cols_2021 = ['brand', 'model', 'year', 'body', 'car_mileage', 'fuel', 'power', 'transmission']       \n",
    "data_2021 = df_comb[cols_2021]"
   ]
  },
  {
   "cell_type": "code",
   "execution_count": 155,
   "metadata": {
    "scrolled": true
   },
   "outputs": [
    {
     "name": "stdout",
     "output_type": "stream",
     "text": [
      "(20919, 975)\n"
     ]
    }
   ],
   "source": [
    "# select all categorical variables\n",
    "cars_categorical_2021 = data_2021.select_dtypes(include=['object'])\n",
    "# convert into dummies\n",
    "cars_dummies_2021 = pd.get_dummies(cars_categorical_2021, drop_first=True)\n",
    "# drop categorical variables \n",
    "data_2021 = data_2021.drop(list(cars_categorical_2021.columns), axis=1)\n",
    "# scale numerical variables\n",
    "cols_2021 = data_2021.columns\n",
    "data_2021 = pd.DataFrame(scale(data_2021))\n",
    "data_2021.columns = cols_2021\n",
    "# concat dummy variables with numerical\n",
    "data_2021 = pd.concat([data_2021, cars_dummies_2021], axis=1)\n",
    "print(data_2021.shape)"
   ]
  },
  {
   "cell_type": "code",
   "execution_count": 138,
   "metadata": {},
   "outputs": [],
   "source": [
    "data_2021_select = data_2021[-10:]"
   ]
  },
  {
   "cell_type": "code",
   "execution_count": 141,
   "metadata": {},
   "outputs": [],
   "source": [
    "values_2021 = df_2021.price_usd"
   ]
  },
  {
   "cell_type": "markdown",
   "metadata": {},
   "source": [
    "### Running models on the real world data"
   ]
  },
  {
   "cell_type": "code",
   "execution_count": 142,
   "metadata": {},
   "outputs": [
    {
     "name": "stdout",
     "output_type": "stream",
     "text": [
      "0.6506740294997173\n",
      "[(11900, 11950), (5950, 5999), (7490, 6500), (8350, 8500), (6750, 6200), (11400, 8500), (11900, 10500), (8599, 7000), (9000, 9200), (11599, 10300)]\n"
     ]
    }
   ],
   "source": [
    "knn_model = KNeighborsClassifier(n_neighbors = 3, weights='uniform').fit(X_train, Y_train)\n",
    "knn_predictions = knn_model.predict(data_2021_select)\n",
    "print(r2_score(y_true=values_2021, y_pred=knn_predictions))\n",
    "print(list(zip(values_2021, knn_predictions)))"
   ]
  },
  {
   "cell_type": "code",
   "execution_count": 145,
   "metadata": {},
   "outputs": [
    {
     "name": "stdout",
     "output_type": "stream",
     "text": [
      "-1.656338189243936\n",
      "[(11900, 21900), (5950, 6550), (7490, 7700), (8350, 5500), (6750, 6700), (11400, 8500), (11900, 11900), (8599, 8500), (9000, 9200), (11599, 9500)]\n"
     ]
    }
   ],
   "source": [
    "knn_model = KNeighborsClassifier(n_neighbors = 90, weights='distance').fit(X_train, Y_train)\n",
    "knn_predictions = knn_model.predict(data_2021_select)\n",
    "print(r2_score(y_true=values_2021, y_pred=knn_predictions))\n",
    "print(list(zip(values_2021, knn_predictions)))"
   ]
  },
  {
   "cell_type": "code",
   "execution_count": 146,
   "metadata": {},
   "outputs": [
    {
     "name": "stdout",
     "output_type": "stream",
     "text": [
      "0.2875013247259669\n",
      "[(11900, 11300), (5950, 6500), (7490, 6500), (8350, 5500), (6750, 7500), (11400, 8500), (11900, 10500), (8599, 7500), (9000, 6500), (11599, 9500)]\n"
     ]
    }
   ],
   "source": [
    "svc_classifier = SVC(C=0.7, kernel = 'poly', degree=1)\n",
    "\n",
    "svc_classifier.fit(X_train, Y_train) \n",
    "svc_predictions = svc_classifier.predict(data_2021_select)\n",
    "\n",
    "print(r2_score(y_true=values_2021, y_pred=svc_predictions))\n",
    "print(list(zip(values_2021, svc_predictions)))"
   ]
  },
  {
   "cell_type": "code",
   "execution_count": 147,
   "metadata": {},
   "outputs": [],
   "source": [
    "predicted_price = [11950, 5999, 6500, 8500, 6200, 8500, 10500, 7000, 9200, 10300]"
   ]
  },
  {
   "cell_type": "markdown",
   "metadata": {},
   "source": [
    "## Final results\n",
    "Here are the final data with the real and predicted prices (KNeighborsClassifier(n_neighbors = 3, weights='uniform')). As you can see from the prices, some predictions were very accurate. The current model can be improved by carefull choosing of parameters for training, removing outliers and changing 'other' values to something more meaningfull. "
   ]
  },
  {
   "cell_type": "code",
   "execution_count": 148,
   "metadata": {
    "scrolled": true
   },
   "outputs": [
    {
     "data": {
      "text/html": [
       "<div>\n",
       "<style scoped>\n",
       "    .dataframe tbody tr th:only-of-type {\n",
       "        vertical-align: middle;\n",
       "    }\n",
       "\n",
       "    .dataframe tbody tr th {\n",
       "        vertical-align: top;\n",
       "    }\n",
       "\n",
       "    .dataframe thead th {\n",
       "        text-align: right;\n",
       "    }\n",
       "</style>\n",
       "<table border=\"1\" class=\"dataframe\">\n",
       "  <thead>\n",
       "    <tr style=\"text-align: right;\">\n",
       "      <th></th>\n",
       "      <th>brand</th>\n",
       "      <th>model</th>\n",
       "      <th>year</th>\n",
       "      <th>body</th>\n",
       "      <th>price_usd</th>\n",
       "      <th>car_mileage</th>\n",
       "      <th>fuel</th>\n",
       "      <th>power</th>\n",
       "      <th>transmission</th>\n",
       "      <th>predicted_price</th>\n",
       "    </tr>\n",
       "  </thead>\n",
       "  <tbody>\n",
       "    <tr>\n",
       "      <th>0</th>\n",
       "      <td>volkswagen</td>\n",
       "      <td>caddy</td>\n",
       "      <td>2017</td>\n",
       "      <td>minivan</td>\n",
       "      <td>11900</td>\n",
       "      <td>225</td>\n",
       "      <td>diesel</td>\n",
       "      <td>2.0</td>\n",
       "      <td>manual</td>\n",
       "      <td>11950</td>\n",
       "    </tr>\n",
       "    <tr>\n",
       "      <th>1</th>\n",
       "      <td>volkswagen</td>\n",
       "      <td>golf</td>\n",
       "      <td>2004</td>\n",
       "      <td>hatchback</td>\n",
       "      <td>5950</td>\n",
       "      <td>165</td>\n",
       "      <td>petrol</td>\n",
       "      <td>1.6</td>\n",
       "      <td>manual</td>\n",
       "      <td>5999</td>\n",
       "    </tr>\n",
       "    <tr>\n",
       "      <th>2</th>\n",
       "      <td>volkswagen</td>\n",
       "      <td>golf</td>\n",
       "      <td>2008</td>\n",
       "      <td>hatchback</td>\n",
       "      <td>7490</td>\n",
       "      <td>167</td>\n",
       "      <td>petrol</td>\n",
       "      <td>1.4</td>\n",
       "      <td>manual</td>\n",
       "      <td>6500</td>\n",
       "    </tr>\n",
       "    <tr>\n",
       "      <th>3</th>\n",
       "      <td>bmw</td>\n",
       "      <td>320</td>\n",
       "      <td>2008</td>\n",
       "      <td>sedan</td>\n",
       "      <td>8350</td>\n",
       "      <td>213</td>\n",
       "      <td>petrol</td>\n",
       "      <td>2.0</td>\n",
       "      <td>manual</td>\n",
       "      <td>8500</td>\n",
       "    </tr>\n",
       "    <tr>\n",
       "      <th>4</th>\n",
       "      <td>ford</td>\n",
       "      <td>focus</td>\n",
       "      <td>2010</td>\n",
       "      <td>hatchback</td>\n",
       "      <td>6750</td>\n",
       "      <td>173</td>\n",
       "      <td>diesel</td>\n",
       "      <td>1.6</td>\n",
       "      <td>manual</td>\n",
       "      <td>6200</td>\n",
       "    </tr>\n",
       "    <tr>\n",
       "      <th>5</th>\n",
       "      <td>volkswagen</td>\n",
       "      <td>passat</td>\n",
       "      <td>2011</td>\n",
       "      <td>station wagon</td>\n",
       "      <td>11400</td>\n",
       "      <td>242</td>\n",
       "      <td>diesel</td>\n",
       "      <td>2.0</td>\n",
       "      <td>automatic</td>\n",
       "      <td>8500</td>\n",
       "    </tr>\n",
       "    <tr>\n",
       "      <th>6</th>\n",
       "      <td>volkswagen</td>\n",
       "      <td>passat</td>\n",
       "      <td>2014</td>\n",
       "      <td>sedan</td>\n",
       "      <td>11900</td>\n",
       "      <td>121</td>\n",
       "      <td>gas</td>\n",
       "      <td>1.8</td>\n",
       "      <td>automatic</td>\n",
       "      <td>10500</td>\n",
       "    </tr>\n",
       "    <tr>\n",
       "      <th>7</th>\n",
       "      <td>renault</td>\n",
       "      <td>megane</td>\n",
       "      <td>2011</td>\n",
       "      <td>hatchback</td>\n",
       "      <td>8599</td>\n",
       "      <td>147</td>\n",
       "      <td>diesel</td>\n",
       "      <td>1.5</td>\n",
       "      <td>automatic</td>\n",
       "      <td>7000</td>\n",
       "    </tr>\n",
       "    <tr>\n",
       "      <th>8</th>\n",
       "      <td>nissan</td>\n",
       "      <td>qashqai</td>\n",
       "      <td>2008</td>\n",
       "      <td>SUV/crossover</td>\n",
       "      <td>9000</td>\n",
       "      <td>248</td>\n",
       "      <td>diesel</td>\n",
       "      <td>1.5</td>\n",
       "      <td>manual</td>\n",
       "      <td>9200</td>\n",
       "    </tr>\n",
       "    <tr>\n",
       "      <th>9</th>\n",
       "      <td>audi</td>\n",
       "      <td>a6</td>\n",
       "      <td>2008</td>\n",
       "      <td>sedan</td>\n",
       "      <td>11599</td>\n",
       "      <td>194</td>\n",
       "      <td>diesel</td>\n",
       "      <td>2.7</td>\n",
       "      <td>automatic</td>\n",
       "      <td>10300</td>\n",
       "    </tr>\n",
       "  </tbody>\n",
       "</table>\n",
       "</div>"
      ],
      "text/plain": [
       "        brand    model  year           body  price_usd  car_mileage    fuel  \\\n",
       "0  volkswagen    caddy  2017        minivan      11900          225  diesel   \n",
       "1  volkswagen     golf  2004      hatchback       5950          165  petrol   \n",
       "2  volkswagen     golf  2008      hatchback       7490          167  petrol   \n",
       "3         bmw      320  2008          sedan       8350          213  petrol   \n",
       "4        ford    focus  2010      hatchback       6750          173  diesel   \n",
       "5  volkswagen   passat  2011  station wagon      11400          242  diesel   \n",
       "6  volkswagen   passat  2014          sedan      11900          121     gas   \n",
       "7     renault   megane  2011      hatchback       8599          147  diesel   \n",
       "8      nissan  qashqai  2008  SUV/crossover       9000          248  diesel   \n",
       "9        audi       a6  2008          sedan      11599          194  diesel   \n",
       "\n",
       "   power transmission  predicted_price  \n",
       "0    2.0       manual            11950  \n",
       "1    1.6       manual             5999  \n",
       "2    1.4       manual             6500  \n",
       "3    2.0       manual             8500  \n",
       "4    1.6       manual             6200  \n",
       "5    2.0    automatic             8500  \n",
       "6    1.8    automatic            10500  \n",
       "7    1.5    automatic             7000  \n",
       "8    1.5       manual             9200  \n",
       "9    2.7    automatic            10300  "
      ]
     },
     "execution_count": 148,
     "metadata": {},
     "output_type": "execute_result"
    }
   ],
   "source": [
    "df_2021['predicted_price'] = predicted_price\n",
    "df_2021"
   ]
  },
  {
   "cell_type": "markdown",
   "metadata": {},
   "source": [
    "## Thanks for your attention!\n",
    "\n",
    "\n",
    "\n",
    "Oleksandr Shulha\n",
    "\n",
    "sashastereo@ukr.net\n",
    "\n",
    "19.01.2021"
   ]
  }
 ],
 "metadata": {
  "kernelspec": {
   "display_name": "Python 3",
   "language": "python",
   "name": "python3"
  },
  "language_info": {
   "codemirror_mode": {
    "name": "ipython",
    "version": 3
   },
   "file_extension": ".py",
   "mimetype": "text/x-python",
   "name": "python",
   "nbconvert_exporter": "python",
   "pygments_lexer": "ipython3",
   "version": "3.9.1"
  }
 },
 "nbformat": 4,
 "nbformat_minor": 4
}
